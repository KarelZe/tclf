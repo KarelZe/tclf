{
 "cells": [
  {
   "cell_type": "code",
   "execution_count": null,
   "metadata": {
    "tags": []
   },
   "outputs": [],
   "source": [
    "import gcsfs\n",
    "import matplotlib.pyplot as plt\n",
    "import pandas as pd\n",
    "from matplotlib.dates import DateFormatter\n",
    "from matplotlib.ticker import PercentFormatter\n",
    "from sklearn.metrics import accuracy_score\n",
    "\n",
    "from tclf.classical_classifier import ClassicalClassifier"
   ]
  },
  {
   "cell_type": "code",
   "execution_count": null,
   "metadata": {
    "tags": []
   },
   "outputs": [],
   "source": [
    "features_classical = [\n",
    "    \"TRADE_PRICE\",\n",
    "    \"bid_ex\",\n",
    "    \"ask_ex\",\n",
    "    \"BEST_ASK\",\n",
    "    \"BEST_BID\",\n",
    "    \"price_all_lead\",\n",
    "    \"price_ex_lead\",\n",
    "]\n",
    "\n",
    "features_size = [\"TRADE_SIZE\", \"bid_size_ex\", \"ask_size_ex\"]\n",
    "\n",
    "features_meta = [\"QUOTE_DATETIME\", \"buy_sell\"]\n",
    "\n",
    "columns = [\n",
    "    *features_classical,\n",
    "    *features_size,\n",
    "    *features_meta,\n",
    "]"
   ]
  },
  {
   "cell_type": "code",
   "execution_count": null,
   "metadata": {},
   "outputs": [],
   "source": [
    "fs = gcsfs.GCSFileSystem()\n",
    "\n",
    "gcs_loc = fs.glob(\n",
    "    \"gs://thesis-bucket-option-trade-classification/data/preprocessed/matched_ise_quotes*\"\n",
    ")\n",
    "X = pd.read_parquet(gcs_loc, engine=\"pyarrow\", columns=columns, filesystem=fs)\n",
    "\n",
    "X_meta = X[features_meta]\n",
    "X = X.drop(columns=features_meta).rename(\n",
    "    {\n",
    "        \"TRADE_PRICE\": \"trade_price\",\n",
    "        \"TRADE_SIZE\": \"trade_size\",\n",
    "        \"BEST_ASK\": \"ask_best\",\n",
    "        \"BEST_BID\": \"bid_best\",\n",
    "        \"buy_sell\": \"y_true\",\n",
    "    },\n",
    "    axis=1,\n",
    ")\n",
    "X[[\"ask_size_best\", \"bid_size_best\"]] = X[[\"ask_size_ex\", \"bid_size_ex\"]]"
   ]
  },
  {
   "cell_type": "code",
   "execution_count": null,
   "metadata": {},
   "outputs": [],
   "source": [
    "X.head()"
   ]
  },
  {
   "cell_type": "code",
   "execution_count": null,
   "metadata": {
    "tags": []
   },
   "outputs": [],
   "source": [
    "layers = [  # grauer (benchmark 2)\n",
    "    (\"trade_size\", \"ex\"),\n",
    "    (\"quote\", \"best\"),\n",
    "    (\"quote\", \"ex\"),\n",
    "    (\"depth\", \"best\"),\n",
    "    (\"depth\", \"ex\"),\n",
    "    (\"rev_tick\", \"all\"),\n",
    "]\n",
    "clf = ClassicalClassifier(layers=layers, strategy=\"random\")\n",
    "\n",
    "X_meta[\"y_pred\"] = clf.fit(X).predict(X)"
   ]
  },
  {
   "cell_type": "code",
   "execution_count": null,
   "metadata": {},
   "outputs": [],
   "source": [
    "X_meta"
   ]
  },
  {
   "cell_type": "code",
   "execution_count": null,
   "metadata": {},
   "outputs": [],
   "source": [
    "df_plot = X_meta.groupby(X_meta.QUOTE_DATETIME.dt.date).apply(\n",
    "    lambda x: accuracy_score(x[\"y_true\"], x[\"y_pred\"])\n",
    ")"
   ]
  },
  {
   "cell_type": "code",
   "execution_count": null,
   "metadata": {},
   "outputs": [],
   "source": [
    "plt.rcParams[\"font.family\"] = \"serif\"\n",
    "plt.figure(figsize=(9, 3))\n",
    "plt.plot(df_plot * 100, color=\"tab:orange\", linewidth=1.5, label=\"ISE\")\n",
    "plt.ylim(0, 100)\n",
    "plt.ylabel(\"Overall success rate\")\n",
    "ax = plt.gca()\n",
    "ax.yaxis.set_major_formatter(PercentFormatter(100, decimals=0))\n",
    "ax.xaxis.set_major_formatter(DateFormatter(\"%b-%y\"))\n",
    "plt.title(\n",
    "    \"C: Performance of trade classification based on\\n trade size rule + depth rule + reverse LR (NBBO, exchange)\",\n",
    "    loc=\"left\",\n",
    ")\n",
    "plt.grid(True, axis=\"y\")\n",
    "plt.legend(loc=\"lower left\", frameon=False)\n",
    "plt.show()"
   ]
  }
 ],
 "metadata": {
  "kernelspec": {
   "display_name": "Python 3 (ipykernel)",
   "language": "python",
   "name": "python3"
  },
  "language_info": {
   "codemirror_mode": {
    "name": "ipython",
    "version": 3
   },
   "file_extension": ".py",
   "mimetype": "text/x-python",
   "name": "python",
   "nbconvert_exporter": "python",
   "pygments_lexer": "ipython3",
   "version": "3.10.12"
  }
 },
 "nbformat": 4,
 "nbformat_minor": 4
}
