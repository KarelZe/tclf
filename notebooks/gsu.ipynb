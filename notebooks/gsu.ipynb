{
 "cells": [
  {
   "cell_type": "code",
   "execution_count": null,
   "metadata": {
    "tags": []
   },
   "outputs": [],
   "source": [
    "import pandas as pd\n",
    "\n",
    "from tclf.classical_classifier import ClassicalClassifier"
   ]
  },
  {
   "cell_type": "code",
   "execution_count": null,
   "metadata": {
    "tags": []
   },
   "outputs": [],
   "source": [
    "features_classical = [\n",
    "    \"TRADE_PRICE\",\n",
    "    \"bid_ex\",\n",
    "    \"ask_ex\",\n",
    "    \"BEST_ASK\",\n",
    "    \"BEST_BID\",\n",
    "    \"price_all_lag\",\n",
    "]\n",
    "\n",
    "features_size = [\n",
    "    \"TRADE_SIZE\",\n",
    "    \"bid_size_ex\",\n",
    "    \"ask_size_ex\"\n",
    "]\n",
    "\n",
    "features_meta = [\"QUOTE_DATETIME\", \"buy_sell\"]\n",
    "\n",
    "columns = [\n",
    "    *features_classical,\n",
    "    *features_size,\n",
    "    *features_meta,\n",
    "]"
   ]
  },
  {
   "cell_type": "code",
   "execution_count": null,
   "metadata": {},
   "outputs": [],
   "source": [
    "gcs_loc = \"gs://thesis-bucket-option-trade-classification/data/preprocessed/ise_supervised_none/\"\n",
    "X = pd.read_parquet(\n",
    "        gcs_loc, engine=\"pyarrow\", columns=columns\n",
    "    )\n",
    "\n",
    "X_meta = X[features_meta]\n",
    "X = X.drop(columns=features_meta).rename({\"TRADE_PRICE\": \"trade_price\", \"TRADE_SIZE\": \"trade_size\", \"BEST_ASK\": \"ask_best\", \"BEST_BID\": \"bid_best\"}, axis=1)"
   ]
  },
  {
   "cell_type": "code",
   "execution_count": null,
   "metadata": {
    "tags": []
   },
   "outputs": [],
   "source": [
    "layers = [ # grauer (benchmark 2) \n",
    "        (\"trade_size\", \"ex\"),\n",
    "        (\"quote\", \"best\"),\n",
    "        (\"quote\", \"ex\"),\n",
    "        (\"depth\", \"best\"),\n",
    "        (\"depth\", \"ex\"),\n",
    "        (\"rev_tick\", \"all\"),\n",
    "    ]\n",
    "clf = ClassicalClassifier(layers=layers, strategy=\"random\")\n",
    "\n",
    "X_meta[\"y_pred\"] = clf.fit(X).predict(X)"
   ]
  },
  {
   "cell_type": "code",
   "execution_count": null,
   "metadata": {},
   "outputs": [],
   "source": [
    "X_meta"
   ]
  }
 ],
 "metadata": {
  "kernelspec": {
   "display_name": "env",
   "language": "python",
   "name": "python3"
  },
  "language_info": {
   "codemirror_mode": {
    "name": "ipython",
    "version": 3
   },
   "file_extension": ".py",
   "mimetype": "text/x-python",
   "name": "python",
   "nbconvert_exporter": "python",
   "pygments_lexer": "ipython3",
   "version": "3.10.12"
  }
 },
 "nbformat": 4,
 "nbformat_minor": 4
}
